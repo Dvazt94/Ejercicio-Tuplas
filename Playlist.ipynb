{
 "cells": [
  {
   "cell_type": "code",
   "execution_count": 1,
   "id": "8a4f3a9d",
   "metadata": {},
   "outputs": [
    {
     "name": "stdout",
     "output_type": "stream",
     "text": [
      "Lista de Reproducción\n",
      "\n",
      "Ingresa la palabra que te gustaría\n",
      "Ejemplo: 'rock', y obtendrás un playlist de canciones o artistas que incluyan la palabra rock\n",
      "pop\n",
      "['Popular (From The Idol Vol. 1 Music from the HBO Original Series)', 'The Weeknd']\n",
      "('Popular (From The Idol Vol. 1 Music from the HBO Original Series)', 'The Weeknd')\n",
      "['Dior', 'Pop Smoke']\n",
      "('Dior', 'Pop Smoke')\n",
      "['Popular Monster', 'Falling in Reverse']\n",
      "('Popular Monster', 'Falling in Reverse')\n",
      "['What You Know Bout Love', 'Pop Smoke']\n",
      "('What You Know Bout Love', 'Pop Smoke')\n",
      "['Popcorn Salé', 'SANTA']\n",
      "('Popcorn Salé', 'SANTA')\n",
      "['Pop like this Pt. 2 (Slowed)', 'prodbycpkshawn']\n",
      "('Pop like this Pt. 2 (Slowed)', 'prodbycpkshawn')\n",
      "['POPSTAR (feat. Drake)', 'DJ Khaled']\n",
      "('POPSTAR (feat. Drake)', 'DJ Khaled')\n",
      "[\"Poppin' Them Thangs\", 'G-Unit']\n",
      "(\"Poppin' Them Thangs\", 'G-Unit')\n",
      "['V.A.N', 'Bad Omens']\n",
      "('V.A.N', 'Bad Omens')\n",
      "['For The Night', 'Pop Smoke']\n",
      "('For The Night', 'Pop Smoke')\n",
      "['Popular', 'Nada Surf']\n",
      "('Popular', 'Nada Surf')\n",
      "['Pop Out', 'Polo G']\n",
      "('Pop Out', 'Polo G')\n",
      "['POPOPOP', 'Gambi']\n",
      "('POPOPOP', 'Gambi')\n",
      "['The Woo', 'Pop Smoke']\n",
      "('The Woo', 'Pop Smoke')\n",
      "['Popular', 'The Weeknd']\n",
      "('Popular', 'The Weeknd')\n",
      "['Invincible', 'Pop Smoke']\n",
      "('Invincible', 'Pop Smoke')\n",
      "['Woo Baby', 'Pop Smoke']\n",
      "('Woo Baby', 'Pop Smoke')\n",
      "['New Way Out', 'Poppy']\n",
      "('New Way Out', 'Poppy')\n",
      "['Pop Smoke', 'Gambino La MG']\n",
      "('Pop Smoke', 'Gambino La MG')\n",
      "['Pope Is a Rockstar', 'Sales']\n",
      "('Pope Is a Rockstar', 'Sales')\n",
      "['Get Back', 'Pop Smoke']\n",
      "('Get Back', 'Pop Smoke')\n",
      "['Welcome To The Party', 'Pop Smoke']\n",
      "('Welcome To The Party', 'Pop Smoke')\n",
      "['POP/STARS', 'K/DA']\n",
      "('POP/STARS', 'K/DA')\n",
      "['Mood Swings', 'Pop Smoke']\n",
      "('Mood Swings', 'Pop Smoke')\n",
      "['Pop like this Pt. 2', 'prodbycpkshawn']\n",
      "('Pop like this Pt. 2', 'prodbycpkshawn')\n"
     ]
    }
   ],
   "source": [
    "import requests\n",
    "print(\"Lista de Reproducción\\n\")\n",
    "\n",
    "# Referencia: https://www.deezer.com/en/channels/explore\n",
    "\n",
    "print(\"Ingresa la palabra que te gustaría\")\n",
    "\n",
    "print(\"Ejemplo: 'rock', y obtendrás un playlist de canciones o artistas que incluyan la palabra rock\")\n",
    "\n",
    "word_to_search = input()\n",
    "\n",
    "url = \"https://deezerdevs-deezer.p.rapidapi.com/search\"\n",
    "querystring = {\"q\":word_to_search}\n",
    "headers = {\n",
    "    \"X-RapidAPI-Key\": \"3ed98f551fmshe4e6260228c4eadp13db17jsn8c893e1194da\",\n",
    "    \"X-RapidAPI-Host\": \"deezerdevs-deezer.p.rapidapi.com\"\n",
    "}\n",
    "response = requests.request(\"GET\", url, headers=headers, params=querystring).json()\n",
    "for element in response['data']:\n",
    "    my_list = [element['title'], element['artist']['name']]\n",
    "    print(my_list)\n",
    "    my_tuple=(tuple(my_list))\n",
    "    print(my_tuple)"
   ]
  },
  {
   "cell_type": "code",
   "execution_count": null,
   "id": "23b4ea36",
   "metadata": {},
   "outputs": [],
   "source": []
  },
  {
   "cell_type": "code",
   "execution_count": null,
   "id": "906d04b5",
   "metadata": {},
   "outputs": [],
   "source": []
  }
 ],
 "metadata": {
  "kernelspec": {
   "display_name": "Python 3 (ipykernel)",
   "language": "python",
   "name": "python3"
  },
  "language_info": {
   "codemirror_mode": {
    "name": "ipython",
    "version": 3
   },
   "file_extension": ".py",
   "mimetype": "text/x-python",
   "name": "python",
   "nbconvert_exporter": "python",
   "pygments_lexer": "ipython3",
   "version": "3.11.7"
  }
 },
 "nbformat": 4,
 "nbformat_minor": 5
}
